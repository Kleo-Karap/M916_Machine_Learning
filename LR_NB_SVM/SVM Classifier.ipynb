{
 "cells": [
  {
   "cell_type": "code",
   "execution_count": 65,
   "id": "2a3a4975",
   "metadata": {},
   "outputs": [],
   "source": [
    "from sklearn.svm import SVC\n",
    "import numpy as np\n",
    "import pandas as pd\n",
    "from sklearn.model_selection import train_test_split\n",
    "from sklearn.preprocessing import StandardScaler\n",
    "from sklearn.decomposition import PCA\n",
    "from sklearn.model_selection import GridSearchCV\n",
    "from sklearn import metrics\n",
    "import matplotlib.pyplot as plt\n",
    "import seaborn as sns"
   ]
  },
  {
   "cell_type": "markdown",
   "id": "1c3642e3",
   "metadata": {},
   "source": [
    "SVM algorithm offers a choice of kernel functions for performing its processing. Basically, mapping data into a higher dimensional space is called \"kernelling\". The mathematical function used for the transformation is known as the kernel function and can be of different types, such as:\n",
    "\n",
    "1.Linear\n",
    "2.Polynomial\n",
    "3.Radial Basis function\n",
    "4.Sigmoid\n",
    "\n",
    "Each of these functions has its characteristics, its pros and cons and its equation, but there's no easy way of knowing which function performs best with any given dataset. We usually choose different functions in turn and compare the results. We will do that with 2 functions : Linear and Radial basis."
   ]
  },
  {
   "cell_type": "code",
   "execution_count": 66,
   "id": "7f53dab9",
   "metadata": {},
   "outputs": [
    {
     "data": {
      "text/plain": [
       "age           int64\n",
       "sex           int64\n",
       "cp            int64\n",
       "trestbps      int64\n",
       "chol          int64\n",
       "fbs           int64\n",
       "restecg       int64\n",
       "thalach       int64\n",
       "exang         int64\n",
       "oldpeak     float64\n",
       "slope         int64\n",
       "ca            int64\n",
       "thal          int64\n",
       "target        int64\n",
       "dtype: object"
      ]
     },
     "execution_count": 66,
     "metadata": {},
     "output_type": "execute_result"
    }
   ],
   "source": [
    "file_path=\"C:/Users/kleop/Documents/repos/Exercises/Machine_Learning/Coursework_2/heart.csv\"\n",
    "data=pd.read_csv(file_path, sep=',', decimal=\".\")\n",
    "#data.head()\n",
    "data.dtypes #to check. if there is any non-numeric variable"
   ]
  },
  {
   "cell_type": "code",
   "execution_count": 67,
   "id": "d83f361a",
   "metadata": {},
   "outputs": [],
   "source": [
    "X=data.iloc[:,:-1].values\n",
    "y=data.iloc[:,-1].values"
   ]
  },
  {
   "cell_type": "code",
   "execution_count": 68,
   "id": "b3439f65",
   "metadata": {},
   "outputs": [
    {
     "name": "stdout",
     "output_type": "stream",
     "text": [
      "[[ 0.9521966   0.68100522  1.97312292 ... -2.27457861 -0.71442887\n",
      "  -2.14887271]\n",
      " [-1.91531289  0.68100522  1.00257707 ... -2.27457861 -0.71442887\n",
      "  -0.51292188]\n",
      " [-1.47415758 -1.46841752  0.03203122 ...  0.97635214 -0.71442887\n",
      "  -0.51292188]\n",
      " ...\n",
      " [ 1.50364073  0.68100522 -0.93851463 ... -0.64911323  1.24459328\n",
      "   1.12302895]\n",
      " [ 0.29046364  0.68100522 -0.93851463 ... -0.64911323  0.26508221\n",
      "   1.12302895]\n",
      " [ 0.29046364 -1.46841752  0.03203122 ... -0.64911323  0.26508221\n",
      "  -0.51292188]]\n"
     ]
    }
   ],
   "source": [
    "scale=StandardScaler()\n",
    "X=scale.fit_transform(X)\n",
    "print(X)"
   ]
  },
  {
   "cell_type": "code",
   "execution_count": 69,
   "id": "b99d37b1",
   "metadata": {},
   "outputs": [],
   "source": [
    "X_train,X_test,y_train,y_test=train_test_split(X,y,test_size=0.2,random_state=0)"
   ]
  },
  {
   "cell_type": "code",
   "execution_count": 70,
   "id": "75b01b01",
   "metadata": {},
   "outputs": [
    {
     "name": "stdout",
     "output_type": "stream",
     "text": [
      "[0.20879927 0.32995097 0.42369281 0.51514961 0.59630549 0.67101175\n",
      " 0.73647104 0.79594704 0.85092807 0.90117182]\n"
     ]
    }
   ],
   "source": [
    "pca =PCA(n_components =10)\n",
    "X_train_pca = pca.fit_transform(X_train)\n",
    "X_test_pca = pca.transform(X_test)\n",
    "print(pca.explained_variance_ratio_.cumsum())"
   ]
  },
  {
   "cell_type": "markdown",
   "id": "10ea097d",
   "metadata": {},
   "source": [
    "# SVM model"
   ]
  },
  {
   "cell_type": "code",
   "execution_count": 83,
   "id": "db591cc7",
   "metadata": {},
   "outputs": [
    {
     "name": "stdout",
     "output_type": "stream",
     "text": [
      "Accuracy: 0.8429752066115702\n"
     ]
    }
   ],
   "source": [
    "model_svm1 = SVC(kernel='linear')    \n",
    "model_svm1.fit(X_train_pca, y_train)\n",
    "accuracy_train = model_svm1.score(X_train_pca, y_train)\n",
    "print(f\"Accuracy: {accuracy_train}\")"
   ]
  },
  {
   "cell_type": "code",
   "execution_count": 84,
   "id": "9a381017",
   "metadata": {},
   "outputs": [
    {
     "name": "stdout",
     "output_type": "stream",
     "text": [
      "Accuracy: 0.9090909090909091\n"
     ]
    }
   ],
   "source": [
    "model_svm2 = SVC(kernel='rbf', gamma='auto')\n",
    "model_svm2.fit(X_train_pca, y_train)\n",
    "accuracy_train = model_svm2.score(X_train_pca, y_train)\n",
    "print(f\"Accuracy: {accuracy_train}\")"
   ]
  },
  {
   "cell_type": "markdown",
   "id": "ec33432b",
   "metadata": {},
   "source": [
    "Radial basis kernel seems to be performing better on the training set of this dataset."
   ]
  },
  {
   "cell_type": "markdown",
   "id": "b9906797",
   "metadata": {},
   "source": [
    "# Performing 5-Fold Grid-Search Cross Validation on  SVM Classifier on the Training Set"
   ]
  },
  {
   "cell_type": "markdown",
   "id": "63c1d583",
   "metadata": {},
   "source": [
    "1. Specify  gamma(=the corresponding kernel coefficients, which will be used for calculating the hyperplane with respect to a new set of dimensions)\n",
    "2. Specify C(=the penalty we want to impose on the incorrectly placed datapoints with respect to the new hyperplane)"
   ]
  },
  {
   "cell_type": "code",
   "execution_count": 85,
   "id": "54e0050f",
   "metadata": {},
   "outputs": [
    {
     "name": "stdout",
     "output_type": "stream",
     "text": [
      "Fitting 5 folds for each of 3 candidates, totalling 15 fits\n",
      "[CV 1/5] END ...........C=1;, score=(train=0.850, test=0.776) total time=   0.0s\n",
      "[CV 2/5] END ...........C=1;, score=(train=0.850, test=0.755) total time=   0.0s\n",
      "[CV 3/5] END ...........C=1;, score=(train=0.825, test=0.875) total time=   0.0s\n",
      "[CV 4/5] END ...........C=1;, score=(train=0.840, test=0.875) total time=   0.0s\n",
      "[CV 5/5] END ...........C=1;, score=(train=0.835, test=0.812) total time=   0.0s\n",
      "[CV 1/5] END ..........C=10;, score=(train=0.850, test=0.755) total time=   0.0s\n",
      "[CV 2/5] END ..........C=10;, score=(train=0.865, test=0.755) total time=   0.0s\n",
      "[CV 3/5] END ..........C=10;, score=(train=0.825, test=0.875) total time=   0.0s\n",
      "[CV 4/5] END ..........C=10;, score=(train=0.840, test=0.875) total time=   0.0s\n",
      "[CV 5/5] END ..........C=10;, score=(train=0.835, test=0.812) total time=   0.0s\n",
      "[CV 1/5] END ..........C=20;, score=(train=0.850, test=0.755) total time=   0.0s\n",
      "[CV 2/5] END ..........C=20;, score=(train=0.865, test=0.755) total time=   0.0s\n",
      "[CV 3/5] END ..........C=20;, score=(train=0.825, test=0.875) total time=   0.0s\n",
      "[CV 4/5] END ..........C=20;, score=(train=0.840, test=0.875) total time=   0.0s\n",
      "[CV 5/5] END ..........C=20;, score=(train=0.835, test=0.812) total time=   0.0s\n",
      "\n",
      "Fitting 5 folds for each of 3 candidates, totalling 15 fits\n",
      "[CV 1/5] END ...........C=1;, score=(train=0.922, test=0.735) total time=   0.0s\n",
      "[CV 2/5] END ...........C=1;, score=(train=0.902, test=0.714) total time=   0.0s\n",
      "[CV 3/5] END ...........C=1;, score=(train=0.918, test=0.854) total time=   0.0s\n",
      "[CV 4/5] END ...........C=1;, score=(train=0.881, test=0.938) total time=   0.0s\n",
      "[CV 5/5] END ...........C=1;, score=(train=0.923, test=0.812) total time=   0.0s\n",
      "[CV 1/5] END ..........C=10;, score=(train=0.995, test=0.796) total time=   0.0s\n",
      "[CV 2/5] END ..........C=10;, score=(train=0.990, test=0.796) total time=   0.0s\n",
      "[CV 3/5] END ..........C=10;, score=(train=0.990, test=0.833) total time=   0.0s\n",
      "[CV 4/5] END ..........C=10;, score=(train=0.985, test=0.917) total time=   0.0s\n",
      "[CV 5/5] END ..........C=10;, score=(train=0.995, test=0.771) total time=   0.0s\n",
      "[CV 1/5] END ..........C=20;, score=(train=0.995, test=0.694) total time=   0.0s\n",
      "[CV 2/5] END ..........C=20;, score=(train=0.995, test=0.755) total time=   0.0s\n",
      "[CV 3/5] END ..........C=20;, score=(train=0.990, test=0.833) total time=   0.0s\n",
      "[CV 4/5] END ..........C=20;, score=(train=0.990, test=0.917) total time=   0.0s\n",
      "[CV 5/5] END ..........C=20;, score=(train=1.000, test=0.771) total time=   0.0s\n"
     ]
    },
    {
     "data": {
      "text/html": [
       "<style>#sk-container-id-7 {color: black;background-color: white;}#sk-container-id-7 pre{padding: 0;}#sk-container-id-7 div.sk-toggleable {background-color: white;}#sk-container-id-7 label.sk-toggleable__label {cursor: pointer;display: block;width: 100%;margin-bottom: 0;padding: 0.3em;box-sizing: border-box;text-align: center;}#sk-container-id-7 label.sk-toggleable__label-arrow:before {content: \"▸\";float: left;margin-right: 0.25em;color: #696969;}#sk-container-id-7 label.sk-toggleable__label-arrow:hover:before {color: black;}#sk-container-id-7 div.sk-estimator:hover label.sk-toggleable__label-arrow:before {color: black;}#sk-container-id-7 div.sk-toggleable__content {max-height: 0;max-width: 0;overflow: hidden;text-align: left;background-color: #f0f8ff;}#sk-container-id-7 div.sk-toggleable__content pre {margin: 0.2em;color: black;border-radius: 0.25em;background-color: #f0f8ff;}#sk-container-id-7 input.sk-toggleable__control:checked~div.sk-toggleable__content {max-height: 200px;max-width: 100%;overflow: auto;}#sk-container-id-7 input.sk-toggleable__control:checked~label.sk-toggleable__label-arrow:before {content: \"▾\";}#sk-container-id-7 div.sk-estimator input.sk-toggleable__control:checked~label.sk-toggleable__label {background-color: #d4ebff;}#sk-container-id-7 div.sk-label input.sk-toggleable__control:checked~label.sk-toggleable__label {background-color: #d4ebff;}#sk-container-id-7 input.sk-hidden--visually {border: 0;clip: rect(1px 1px 1px 1px);clip: rect(1px, 1px, 1px, 1px);height: 1px;margin: -1px;overflow: hidden;padding: 0;position: absolute;width: 1px;}#sk-container-id-7 div.sk-estimator {font-family: monospace;background-color: #f0f8ff;border: 1px dotted black;border-radius: 0.25em;box-sizing: border-box;margin-bottom: 0.5em;}#sk-container-id-7 div.sk-estimator:hover {background-color: #d4ebff;}#sk-container-id-7 div.sk-parallel-item::after {content: \"\";width: 100%;border-bottom: 1px solid gray;flex-grow: 1;}#sk-container-id-7 div.sk-label:hover label.sk-toggleable__label {background-color: #d4ebff;}#sk-container-id-7 div.sk-serial::before {content: \"\";position: absolute;border-left: 1px solid gray;box-sizing: border-box;top: 0;bottom: 0;left: 50%;z-index: 0;}#sk-container-id-7 div.sk-serial {display: flex;flex-direction: column;align-items: center;background-color: white;padding-right: 0.2em;padding-left: 0.2em;position: relative;}#sk-container-id-7 div.sk-item {position: relative;z-index: 1;}#sk-container-id-7 div.sk-parallel {display: flex;align-items: stretch;justify-content: center;background-color: white;position: relative;}#sk-container-id-7 div.sk-item::before, #sk-container-id-7 div.sk-parallel-item::before {content: \"\";position: absolute;border-left: 1px solid gray;box-sizing: border-box;top: 0;bottom: 0;left: 50%;z-index: -1;}#sk-container-id-7 div.sk-parallel-item {display: flex;flex-direction: column;z-index: 1;position: relative;background-color: white;}#sk-container-id-7 div.sk-parallel-item:first-child::after {align-self: flex-end;width: 50%;}#sk-container-id-7 div.sk-parallel-item:last-child::after {align-self: flex-start;width: 50%;}#sk-container-id-7 div.sk-parallel-item:only-child::after {width: 0;}#sk-container-id-7 div.sk-dashed-wrapped {border: 1px dashed gray;margin: 0 0.4em 0.5em 0.4em;box-sizing: border-box;padding-bottom: 0.4em;background-color: white;}#sk-container-id-7 div.sk-label label {font-family: monospace;font-weight: bold;display: inline-block;line-height: 1.2em;}#sk-container-id-7 div.sk-label-container {text-align: center;}#sk-container-id-7 div.sk-container {/* jupyter's `normalize.less` sets `[hidden] { display: none; }` but bootstrap.min.css set `[hidden] { display: none !important; }` so we also need the `!important` here to be able to override the default hidden behavior on the sphinx rendered scikit-learn.org. See: https://github.com/scikit-learn/scikit-learn/issues/21755 */display: inline-block !important;position: relative;}#sk-container-id-7 div.sk-text-repr-fallback {display: none;}</style><div id=\"sk-container-id-7\" class=\"sk-top-container\"><div class=\"sk-text-repr-fallback\"><pre>GridSearchCV(cv=5, estimator=SVC(gamma=&#x27;auto&#x27;), param_grid={&#x27;C&#x27;: [1, 10, 20]},\n",
       "             return_train_score=True, scoring=&#x27;accuracy&#x27;, verbose=3)</pre><b>In a Jupyter environment, please rerun this cell to show the HTML representation or trust the notebook. <br />On GitHub, the HTML representation is unable to render, please try loading this page with nbviewer.org.</b></div><div class=\"sk-container\" hidden><div class=\"sk-item sk-dashed-wrapped\"><div class=\"sk-label-container\"><div class=\"sk-label sk-toggleable\"><input class=\"sk-toggleable__control sk-hidden--visually\" id=\"sk-estimator-id-19\" type=\"checkbox\" ><label for=\"sk-estimator-id-19\" class=\"sk-toggleable__label sk-toggleable__label-arrow\">GridSearchCV</label><div class=\"sk-toggleable__content\"><pre>GridSearchCV(cv=5, estimator=SVC(gamma=&#x27;auto&#x27;), param_grid={&#x27;C&#x27;: [1, 10, 20]},\n",
       "             return_train_score=True, scoring=&#x27;accuracy&#x27;, verbose=3)</pre></div></div></div><div class=\"sk-parallel\"><div class=\"sk-parallel-item\"><div class=\"sk-item\"><div class=\"sk-label-container\"><div class=\"sk-label sk-toggleable\"><input class=\"sk-toggleable__control sk-hidden--visually\" id=\"sk-estimator-id-20\" type=\"checkbox\" ><label for=\"sk-estimator-id-20\" class=\"sk-toggleable__label sk-toggleable__label-arrow\">estimator: SVC</label><div class=\"sk-toggleable__content\"><pre>SVC(gamma=&#x27;auto&#x27;)</pre></div></div></div><div class=\"sk-serial\"><div class=\"sk-item\"><div class=\"sk-estimator sk-toggleable\"><input class=\"sk-toggleable__control sk-hidden--visually\" id=\"sk-estimator-id-21\" type=\"checkbox\" ><label for=\"sk-estimator-id-21\" class=\"sk-toggleable__label sk-toggleable__label-arrow\">SVC</label><div class=\"sk-toggleable__content\"><pre>SVC(gamma=&#x27;auto&#x27;)</pre></div></div></div></div></div></div></div></div></div></div>"
      ],
      "text/plain": [
       "GridSearchCV(cv=5, estimator=SVC(gamma='auto'), param_grid={'C': [1, 10, 20]},\n",
       "             return_train_score=True, scoring='accuracy', verbose=3)"
      ]
     },
     "execution_count": 85,
     "metadata": {},
     "output_type": "execute_result"
    }
   ],
   "source": [
    "params = {'C':[1, 10, 20]}\n",
    "folds = 5\n",
    "\n",
    "model_cv1 = GridSearchCV(estimator = model_svm1, \n",
    "                        param_grid = params, \n",
    "                        scoring= 'accuracy', \n",
    "                        cv = folds,\n",
    "                        return_train_score=True,\n",
    "                        verbose = 3)\n",
    "\n",
    "model_cv1.fit(X_train_pca, y_train)\n",
    "print()\n",
    "model_cv2 = GridSearchCV(estimator = model_svm2, \n",
    "                        param_grid = params, \n",
    "                        scoring= 'accuracy', \n",
    "                        cv = folds,\n",
    "                        return_train_score=True,\n",
    "                        verbose = 3)\n",
    "\n",
    "model_cv2.fit(X_train_pca, y_train)"
   ]
  },
  {
   "cell_type": "code",
   "execution_count": 79,
   "id": "28605716",
   "metadata": {},
   "outputs": [
    {
     "name": "stdout",
     "output_type": "stream",
     "text": [
      "For linear: {'C': 1}\n",
      "For RBF: {'C': 10}\n"
     ]
    }
   ],
   "source": [
    "print(\"For linear:\",model_cv1.best_params_)\n",
    "print(\"For RBF:\", model_cv2.best_params_)"
   ]
  },
  {
   "cell_type": "markdown",
   "id": "0c8a89dd",
   "metadata": {},
   "source": [
    "# Re-training the SVM Classifier with the best hyper-parameter, C=1 for linear function and C = 10 for RBF (obtained above)"
   ]
  },
  {
   "cell_type": "code",
   "execution_count": 80,
   "id": "b1b72993",
   "metadata": {},
   "outputs": [],
   "source": [
    "model_svm1 = SVC(kernel='linear', C=1)\n",
    "model_svm1.fit(X_train_pca, y_train)\n",
    "y_pred_train1=model_svm1.predict(X_train_pca)\n",
    "y_pred_test1=model_svm1.predict(X_test_pca)"
   ]
  },
  {
   "cell_type": "code",
   "execution_count": 81,
   "id": "3a191195",
   "metadata": {},
   "outputs": [],
   "source": [
    "model_svm2 = SVC(kernel='rbf',gamma='auto', C=10)\n",
    "model_svm2.fit(X_train_pca, y_train)\n",
    "y_pred_train2=model_svm2.predict(X_train_pca)\n",
    "y_pred_test2=model_svm2.predict(X_test_pca)"
   ]
  },
  {
   "cell_type": "markdown",
   "id": "c4096eec",
   "metadata": {},
   "source": [
    "# Evaluation"
   ]
  },
  {
   "cell_type": "code",
   "execution_count": 82,
   "id": "76ee6263",
   "metadata": {},
   "outputs": [
    {
     "name": "stdout",
     "output_type": "stream",
     "text": [
      "Accuracy for C=1: 0.8429752066115702,0.8032786885245902\n",
      "Confusion matrix for train: \n",
      " [[ 86  25]\n",
      " [ 13 118]]\n",
      "Confusion matrix for test: \n",
      " [[19  8]\n",
      " [ 4 30]]\n",
      "\n",
      "Accuracy for C=10 0.987603305785124,0.819672131147541\n",
      "Confusion matrix for train: \n",
      " [[108   3]\n",
      " [  0 131]]\n",
      "Confusion matrix for test: \n",
      " [[21  6]\n",
      " [ 5 29]]\n"
     ]
    }
   ],
   "source": [
    "accuracy_train = model_svm1.score(X_train_pca, y_train)\n",
    "accuracy_test = model_svm1.score(X_test_pca, y_test)\n",
    "print(f\"Accuracy for C=1: {accuracy_train},{accuracy_test}\")\n",
    "print(\"Confusion matrix for train: \\n\",metrics.confusion_matrix(y_train, y_pred_train1))\n",
    "print(\"Confusion matrix for test: \\n\",metrics.confusion_matrix(y_test,y_pred_test1))\n",
    "print()\n",
    "accuracy_train = model_svm2.score(X_train_pca, y_train)\n",
    "accuracy_test = model_svm2.score(X_test_pca, y_test)\n",
    "print(f\"Accuracy for C=10 {accuracy_train},{accuracy_test}\")\n",
    "print(\"Confusion matrix for train: \\n\",metrics.confusion_matrix(y_train, y_pred_train2))\n",
    "print(\"Confusion matrix for test: \\n\",metrics.confusion_matrix(y_test,y_pred_test2))\n"
   ]
  },
  {
   "cell_type": "markdown",
   "id": "a6f44541",
   "metadata": {},
   "source": [
    "From the results above we observe that for this specific dataset and this specific classification task the radial basis function with C=10 hyperparameter gives us the optimal results compared to the linear function with C=1.\n",
    "We get an extremely high accuracy on the training set (98%) and a relatively smaller accuracy on the test set, which is still a high accuracy (81%)"
   ]
  },
  {
   "cell_type": "code",
   "execution_count": null,
   "id": "e23764ad",
   "metadata": {},
   "outputs": [],
   "source": []
  }
 ],
 "metadata": {
  "kernelspec": {
   "display_name": "Python 3 (ipykernel)",
   "language": "python",
   "name": "python3"
  },
  "language_info": {
   "codemirror_mode": {
    "name": "ipython",
    "version": 3
   },
   "file_extension": ".py",
   "mimetype": "text/x-python",
   "name": "python",
   "nbconvert_exporter": "python",
   "pygments_lexer": "ipython3",
   "version": "3.9.16"
  }
 },
 "nbformat": 4,
 "nbformat_minor": 5
}
